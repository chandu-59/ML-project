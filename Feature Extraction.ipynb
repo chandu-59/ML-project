{
 "cells": [
  {
   "cell_type": "code",
   "execution_count": 1,
   "id": "5f2559eb",
   "metadata": {},
   "outputs": [],
   "source": [
    "import librosa\n",
    "from librosa import feature, effects, beat\n",
    "import pandas as pd\n",
    "import numpy as np\n",
    "import tensorflow as tf\n",
    "from pydub import AudioSegment"
   ]
  },
  {
   "cell_type": "code",
   "execution_count": 3,
   "id": "a64a3a3f",
   "metadata": {},
   "outputs": [],
   "source": [
    "def get_features(filePath):\n",
    "    data, sr = librosa.load(filePath)\n",
    "    \n",
    "    # Length\n",
    "    length = data.size\n",
    "    \n",
    "    # Chroma_stft\n",
    "    chroma_stft = feature.chroma_stft(y=data)\n",
    "    chroma_stft_mean = np.mean(chroma_stft)\n",
    "    chroma_stft_var = np.var(chroma_stft)\n",
    "    \n",
    "    # RMS\n",
    "    rms = feature.rms(y=data)\n",
    "    rms_mean = np.mean(rms)\n",
    "    rms_var = np.var(rms)\n",
    "    \n",
    "    # Spectral Centroid\n",
    "    spectral_centroid = feature.spectral_centroid(y=data)\n",
    "    spectral_centroid_mean = np.mean(spectral_centroid)\n",
    "    spectral_centroid_var = np.var(spectral_centroid)\n",
    "    \n",
    "    # Spectral Bandwidth\n",
    "    spectral_bandwidth = feature.spectral_bandwidth(y=data)\n",
    "    spectral_bandwidth_mean = np.mean(spectral_bandwidth)\n",
    "    spectral_bandwidth_var = np.var(spectral_bandwidth)\n",
    "    \n",
    "    # Rolloff\n",
    "    spectral_rolloff = feature.spectral_rolloff(y=data)\n",
    "    spectral_rolloff_mean = np.mean(spectral_rolloff)\n",
    "    spectral_rolloff_var = np.var(spectral_rolloff)\n",
    "    \n",
    "    # Zero Crossing Rate\n",
    "    zero_crossing_rate = feature.zero_crossing_rate(y=data)\n",
    "    zero_crossing_rate_mean = np.mean(zero_crossing_rate)\n",
    "    zero_crossing_rate_var = np.var(zero_crossing_rate)\n",
    "    \n",
    "    # Harmony and perceptr\n",
    "    harmony, perceptr = effects.hpss(data)\n",
    "    harmony_mean = np.mean(harmony)\n",
    "    harmony_var = np.var(harmony)\n",
    "    perceptr_mean = np.mean(perceptr)\n",
    "    perceptr_var = np.var(perceptr)\n",
    "    \n",
    "    # Tempo\n",
    "    tempo, _ = beat.beat_track(y=data)\n",
    "    \n",
    "    # MFCC\n",
    "    mfcc_20c = feature.mfcc(y=data)\n",
    "    mfcc = []\n",
    "    for i in range(len(mfcc_20c)):\n",
    "        mean = np.mean(mfcc_20c[i])\n",
    "        var = np.var(mfcc_20c[i])\n",
    "        mfcc.append(mean)\n",
    "        mfcc.append(var)\n",
    "        \n",
    "\n",
    "    # Combine all features\n",
    "    features = [\n",
    "        chroma_stft_mean, chroma_stft_var, rms_mean, rms_var, spectral_centroid_mean, spectral_centroid_var, \n",
    "        spectral_bandwidth_mean, spectral_bandwidth_var, spectral_rolloff_mean, spectral_rolloff_var, \n",
    "        zero_crossing_rate_mean, zero_crossing_rate_var, harmony_mean, harmony_var, perceptr_mean, perceptr_var, tempo\n",
    "    ]\n",
    "    features.extend(mfcc)\n",
    "    \n",
    "    return features"
   ]
  },
  {
   "cell_type": "code",
   "execution_count": 4,
   "id": "80bda869",
   "metadata": {},
   "outputs": [],
   "source": [
    "features = get_features(\"./genres_original/blues/blues.00005.wav\")"
   ]
  },
  {
   "cell_type": "code",
   "execution_count": 7,
   "id": "3b650612",
   "metadata": {},
   "outputs": [
    {
     "name": "stdout",
     "output_type": "stream",
     "text": [
      "[0.30252185, 0.087551296, 0.103452876, 0.0039811623, 1832.0115969793162, 1030483.8309652422, 1729.5808045469614, 201846.07407526343, 3481.4676306917054, 3274386.1962247384, 0.09404153373936582, 0.006233195614802252, 2.1072713e-06, 0.008084326, -2.7619373e-05, 0.0032444787, 69.83741554054055, -177.80176, 7307.4546, 118.20316, 3195.2053, -17.57063, 654.1079, 30.760931, 485.68976, -21.742554, 433.27664, 11.919263, 266.4076, -20.734299, 169.70601, 3.1852882, 133.70335, -8.580818, 172.22575, -0.9328852, 100.121, -11.772245, 76.554756, -2.408764, 78.802635, -9.348446, 80.10772, -9.942636, 47.53443, -3.9021835, 60.0207, -5.574562, 72.57674, -1.8393143, 68.66612, -2.7893167, 42.470524, -3.0478048, 39.803383, -8.109732, 46.282936]\n"
     ]
    }
   ],
   "source": [
    "print(features)"
   ]
  },
  {
   "cell_type": "code",
   "execution_count": 8,
   "id": "c868ca2c",
   "metadata": {},
   "outputs": [
    {
     "data": {
      "text/plain": [
       "array([[ 3.02521855e-01,  8.75512958e-02,  1.03452876e-01,\n",
       "         3.98116233e-03,  1.83201160e+03,  1.03048383e+06,\n",
       "         1.72958080e+03,  2.01846074e+05,  3.48146763e+03,\n",
       "         3.27438620e+06,  9.40415337e-02,  6.23319561e-03,\n",
       "         2.10727126e-06,  8.08432605e-03, -2.76193732e-05,\n",
       "         3.24447872e-03,  6.98374155e+01, -1.77801758e+02,\n",
       "         7.30745459e+03,  1.18203163e+02,  3.19520532e+03,\n",
       "        -1.75706291e+01,  6.54107910e+02,  3.07609310e+01,\n",
       "         4.85689758e+02, -2.17425537e+01,  4.33276642e+02,\n",
       "         1.19192629e+01,  2.66407593e+02, -2.07342987e+01,\n",
       "         1.69706009e+02,  3.18528819e+00,  1.33703354e+02,\n",
       "        -8.58081818e+00,  1.72225754e+02, -9.32885230e-01,\n",
       "         1.00121002e+02, -1.17722454e+01,  7.65547562e+01,\n",
       "        -2.40876389e+00,  7.88026352e+01, -9.34844589e+00,\n",
       "         8.01077194e+01, -9.94263554e+00,  4.75344315e+01,\n",
       "        -3.90218353e+00,  6.00206985e+01, -5.57456207e+00,\n",
       "         7.25767365e+01, -1.83931434e+00,  6.86661224e+01,\n",
       "        -2.78931665e+00,  4.24705238e+01, -3.04780483e+00,\n",
       "         3.98033829e+01, -8.10973167e+00,  4.62829361e+01]])"
      ]
     },
     "execution_count": 8,
     "metadata": {},
     "output_type": "execute_result"
    }
   ],
   "source": [
    "features = np.reshape(features, [1, 57])\n",
    "features"
   ]
  },
  {
   "cell_type": "code",
   "execution_count": null,
   "id": "386d510d",
   "metadata": {},
   "outputs": [],
   "source": []
  },
  {
   "cell_type": "code",
   "execution_count": null,
   "id": "e1e3505a",
   "metadata": {},
   "outputs": [],
   "source": []
  },
  {
   "cell_type": "code",
   "execution_count": null,
   "id": "f0cc545a",
   "metadata": {},
   "outputs": [],
   "source": []
  },
  {
   "cell_type": "code",
   "execution_count": 40,
   "id": "61aa2e24",
   "metadata": {},
   "outputs": [],
   "source": [
    "model = tf.keras.models.load_model(\"./Music_Genre_Classifier_30/\")"
   ]
  },
  {
   "cell_type": "code",
   "execution_count": 7,
   "id": "ceb1baa6",
   "metadata": {},
   "outputs": [],
   "source": [
    "# model.predict(features)"
   ]
  },
  {
   "cell_type": "code",
   "execution_count": 2,
   "id": "e5739aa8",
   "metadata": {},
   "outputs": [],
   "source": [
    "from pydub.utils import make_chunks"
   ]
  },
  {
   "cell_type": "code",
   "execution_count": 14,
   "id": "f2dc268e",
   "metadata": {},
   "outputs": [],
   "source": [
    "file_path = \"./genres_original/blues/blues.00005.wav\"\n",
    "myAudio = AudioSegment.from_wav(file_path)\n",
    "chunks = make_chunks(myAudio, 3000)"
   ]
  },
  {
   "cell_type": "code",
   "execution_count": 36,
   "id": "a57d5f98",
   "metadata": {},
   "outputs": [
    {
     "name": "stdout",
     "output_type": "stream",
     "text": [
      "exporting chunk.wav\n"
     ]
    }
   ],
   "source": [
    "for i, chunk in enumerate(chunks):\n",
    "    chunk_name = \"chunk.wav\"\n",
    "    print(\"exporting\", chunk_name)\n",
    "    chunk.export(chunk_name, format=\"wav\")\n",
    "    break\n",
    "    \n",
    "    \n",
    "# chunk = enumerate(chunks)\n",
    "# chunk_name = \"chunk.wav\"\n",
    "# print(\"exporting\", chunk_name)\n",
    "# chunk[0].export(chunk_name, format=\"wav\")"
   ]
  },
  {
   "cell_type": "code",
   "execution_count": 37,
   "id": "f58de665",
   "metadata": {},
   "outputs": [],
   "source": [
    "chunk_file = \"./chunk.wav\""
   ]
  },
  {
   "cell_type": "code",
   "execution_count": 114,
   "id": "b57e1afd",
   "metadata": {},
   "outputs": [],
   "source": [
    "features = get_features(chunk_file)"
   ]
  },
  {
   "cell_type": "code",
   "execution_count": 115,
   "id": "3173d066",
   "metadata": {
    "collapsed": true
   },
   "outputs": [
    {
     "data": {
      "text/plain": [
       "[66150,\n",
       " 0.30415234,\n",
       " 0.08960826,\n",
       " 0.073900916,\n",
       " 0.0013302874,\n",
       " 1148.4514654857155,\n",
       " 117070.86654881411,\n",
       " 1481.6406466510534,\n",
       " 141709.11046567862,\n",
       " 2284.4243915264424,\n",
       " 1324711.6495780337,\n",
       " 0.049447866586538464,\n",
       " 0.00019916310112857256,\n",
       " 1.5377908e-06,\n",
       " 0.004244045,\n",
       " -5.367923e-05,\n",
       " 0.0011306386,\n",
       " 67.99958881578948,\n",
       " -246.07567,\n",
       " 9109.914,\n",
       " 162.99628,\n",
       " 753.80054,\n",
       " -7.9002647,\n",
       " 949.9101,\n",
       " 33.968647,\n",
       " 288.1221,\n",
       " -18.322994,\n",
       " 284.3706,\n",
       " 10.611111,\n",
       " 90.568115,\n",
       " -23.583687,\n",
       " 81.565506,\n",
       " 2.864671,\n",
       " 77.73566,\n",
       " -4.6943593,\n",
       " 91.436295,\n",
       " 4.0734553,\n",
       " 68.90182,\n",
       " -13.971252,\n",
       " 22.683132,\n",
       " -5.0048175,\n",
       " 74.18929,\n",
       " -10.499554,\n",
       " 44.592216,\n",
       " -3.9164984,\n",
       " 24.451086,\n",
       " -7.191053,\n",
       " 25.212744,\n",
       " -4.9124804,\n",
       " 38.22102,\n",
       " 0.809489,\n",
       " 18.280386,\n",
       " -3.503603,\n",
       " 23.482914,\n",
       " -4.3297496,\n",
       " 32.046883,\n",
       " -6.7947254,\n",
       " 23.276608]"
      ]
     },
     "execution_count": 115,
     "metadata": {},
     "output_type": "execute_result"
    }
   ],
   "source": [
    "features"
   ]
  },
  {
   "cell_type": "code",
   "execution_count": 108,
   "id": "836498b2",
   "metadata": {},
   "outputs": [],
   "source": [
    "features = np.reshape(features, [1, 58])"
   ]
  },
  {
   "cell_type": "code",
   "execution_count": 109,
   "id": "789a2726",
   "metadata": {
    "collapsed": true
   },
   "outputs": [
    {
     "data": {
      "text/plain": [
       "array([[ 6.61500000e+04,  3.04152340e-01,  8.96082595e-02,\n",
       "         7.39009157e-02,  1.33028743e-03,  1.14845147e+03,\n",
       "         1.17070867e+05,  1.48164065e+03,  1.41709110e+05,\n",
       "         2.28442439e+03,  1.32471165e+06,  4.94478666e-02,\n",
       "         1.99163101e-04,  1.53779081e-06,  4.24404489e-03,\n",
       "        -5.36792286e-05,  1.13063864e-03,  6.79995888e+01,\n",
       "        -2.46075668e+02,  9.10991406e+03,  1.62996277e+02,\n",
       "         7.53800537e+02, -7.90026474e+00,  9.49910095e+02,\n",
       "         3.39686470e+01,  2.88122101e+02, -1.83229942e+01,\n",
       "         2.84370605e+02,  1.06111107e+01,  9.05681152e+01,\n",
       "        -2.35836868e+01,  8.15655060e+01,  2.86467099e+00,\n",
       "         7.77356567e+01, -4.69435930e+00,  9.14362946e+01,\n",
       "         4.07345533e+00,  6.89018173e+01, -1.39712524e+01,\n",
       "         2.26831322e+01, -5.00481749e+00,  7.41892929e+01,\n",
       "        -1.04995537e+01,  4.45922165e+01, -3.91649842e+00,\n",
       "         2.44510860e+01, -7.19105291e+00,  2.52127438e+01,\n",
       "        -4.91248035e+00,  3.82210197e+01,  8.09489012e-01,\n",
       "         1.82803860e+01, -3.50360298e+00,  2.34829140e+01,\n",
       "        -4.32974958e+00,  3.20468826e+01, -6.79472542e+00,\n",
       "         2.32766075e+01]])"
      ]
     },
     "execution_count": 109,
     "metadata": {},
     "output_type": "execute_result"
    }
   ],
   "source": [
    "features"
   ]
  },
  {
   "cell_type": "code",
   "execution_count": 55,
   "id": "01d9e839",
   "metadata": {},
   "outputs": [
    {
     "data": {
      "text/plain": [
       "array([0., 0., 0., 0., 0., 0., 0., 0., 0., 1.], dtype=float32)"
      ]
     },
     "execution_count": 55,
     "metadata": {},
     "output_type": "execute_result"
    }
   ],
   "source": [
    "preds = model.predict(features)\n",
    "preds[0]"
   ]
  },
  {
   "cell_type": "code",
   "execution_count": 57,
   "id": "f7814dd1",
   "metadata": {},
   "outputs": [
    {
     "data": {
      "text/plain": [
       "array([9], dtype=int64)"
      ]
     },
     "execution_count": 57,
     "metadata": {},
     "output_type": "execute_result"
    }
   ],
   "source": [
    "model.predict_classes(features)"
   ]
  },
  {
   "cell_type": "code",
   "execution_count": 52,
   "id": "bbbc8fbf",
   "metadata": {},
   "outputs": [
    {
     "data": {
      "text/plain": [
       "1.0"
      ]
     },
     "execution_count": 52,
     "metadata": {},
     "output_type": "execute_result"
    }
   ],
   "source": [
    "np.amax(preds)"
   ]
  },
  {
   "cell_type": "code",
   "execution_count": 58,
   "id": "8d2c8c20",
   "metadata": {},
   "outputs": [
    {
     "data": {
      "text/html": [
       "<div>\n",
       "<style scoped>\n",
       "    .dataframe tbody tr th:only-of-type {\n",
       "        vertical-align: middle;\n",
       "    }\n",
       "\n",
       "    .dataframe tbody tr th {\n",
       "        vertical-align: top;\n",
       "    }\n",
       "\n",
       "    .dataframe thead th {\n",
       "        text-align: right;\n",
       "    }\n",
       "</style>\n",
       "<table border=\"1\" class=\"dataframe\">\n",
       "  <thead>\n",
       "    <tr style=\"text-align: right;\">\n",
       "      <th></th>\n",
       "      <th>filename</th>\n",
       "      <th>length</th>\n",
       "      <th>chroma_stft_mean</th>\n",
       "      <th>chroma_stft_var</th>\n",
       "      <th>rms_mean</th>\n",
       "      <th>rms_var</th>\n",
       "      <th>spectral_centroid_mean</th>\n",
       "      <th>spectral_centroid_var</th>\n",
       "      <th>spectral_bandwidth_mean</th>\n",
       "      <th>spectral_bandwidth_var</th>\n",
       "      <th>...</th>\n",
       "      <th>mfcc16_var</th>\n",
       "      <th>mfcc17_mean</th>\n",
       "      <th>mfcc17_var</th>\n",
       "      <th>mfcc18_mean</th>\n",
       "      <th>mfcc18_var</th>\n",
       "      <th>mfcc19_mean</th>\n",
       "      <th>mfcc19_var</th>\n",
       "      <th>mfcc20_mean</th>\n",
       "      <th>mfcc20_var</th>\n",
       "      <th>label</th>\n",
       "    </tr>\n",
       "  </thead>\n",
       "  <tbody>\n",
       "    <tr>\n",
       "      <th>0</th>\n",
       "      <td>blues.00000.0.wav</td>\n",
       "      <td>66149</td>\n",
       "      <td>0.335406</td>\n",
       "      <td>0.091048</td>\n",
       "      <td>0.130405</td>\n",
       "      <td>0.003521</td>\n",
       "      <td>1773.065032</td>\n",
       "      <td>167541.630869</td>\n",
       "      <td>1972.744388</td>\n",
       "      <td>117335.771563</td>\n",
       "      <td>...</td>\n",
       "      <td>39.687145</td>\n",
       "      <td>-3.241280</td>\n",
       "      <td>36.488243</td>\n",
       "      <td>0.722209</td>\n",
       "      <td>38.099152</td>\n",
       "      <td>-5.050335</td>\n",
       "      <td>33.618073</td>\n",
       "      <td>-0.243027</td>\n",
       "      <td>43.771767</td>\n",
       "      <td>blues</td>\n",
       "    </tr>\n",
       "    <tr>\n",
       "      <th>1</th>\n",
       "      <td>blues.00000.1.wav</td>\n",
       "      <td>66149</td>\n",
       "      <td>0.343065</td>\n",
       "      <td>0.086147</td>\n",
       "      <td>0.112699</td>\n",
       "      <td>0.001450</td>\n",
       "      <td>1816.693777</td>\n",
       "      <td>90525.690866</td>\n",
       "      <td>2010.051501</td>\n",
       "      <td>65671.875673</td>\n",
       "      <td>...</td>\n",
       "      <td>64.748276</td>\n",
       "      <td>-6.055294</td>\n",
       "      <td>40.677654</td>\n",
       "      <td>0.159015</td>\n",
       "      <td>51.264091</td>\n",
       "      <td>-2.837699</td>\n",
       "      <td>97.030830</td>\n",
       "      <td>5.784063</td>\n",
       "      <td>59.943081</td>\n",
       "      <td>blues</td>\n",
       "    </tr>\n",
       "    <tr>\n",
       "      <th>2</th>\n",
       "      <td>blues.00000.2.wav</td>\n",
       "      <td>66149</td>\n",
       "      <td>0.346815</td>\n",
       "      <td>0.092243</td>\n",
       "      <td>0.132003</td>\n",
       "      <td>0.004620</td>\n",
       "      <td>1788.539719</td>\n",
       "      <td>111407.437613</td>\n",
       "      <td>2084.565132</td>\n",
       "      <td>75124.921716</td>\n",
       "      <td>...</td>\n",
       "      <td>67.336563</td>\n",
       "      <td>-1.768610</td>\n",
       "      <td>28.348579</td>\n",
       "      <td>2.378768</td>\n",
       "      <td>45.717648</td>\n",
       "      <td>-1.938424</td>\n",
       "      <td>53.050835</td>\n",
       "      <td>2.517375</td>\n",
       "      <td>33.105122</td>\n",
       "      <td>blues</td>\n",
       "    </tr>\n",
       "    <tr>\n",
       "      <th>3</th>\n",
       "      <td>blues.00000.3.wav</td>\n",
       "      <td>66149</td>\n",
       "      <td>0.363639</td>\n",
       "      <td>0.086856</td>\n",
       "      <td>0.132565</td>\n",
       "      <td>0.002448</td>\n",
       "      <td>1655.289045</td>\n",
       "      <td>111952.284517</td>\n",
       "      <td>1960.039988</td>\n",
       "      <td>82913.639269</td>\n",
       "      <td>...</td>\n",
       "      <td>47.739452</td>\n",
       "      <td>-3.841155</td>\n",
       "      <td>28.337118</td>\n",
       "      <td>1.218588</td>\n",
       "      <td>34.770935</td>\n",
       "      <td>-3.580352</td>\n",
       "      <td>50.836224</td>\n",
       "      <td>3.630866</td>\n",
       "      <td>32.023678</td>\n",
       "      <td>blues</td>\n",
       "    </tr>\n",
       "    <tr>\n",
       "      <th>4</th>\n",
       "      <td>blues.00000.4.wav</td>\n",
       "      <td>66149</td>\n",
       "      <td>0.335579</td>\n",
       "      <td>0.088129</td>\n",
       "      <td>0.143289</td>\n",
       "      <td>0.001701</td>\n",
       "      <td>1630.656199</td>\n",
       "      <td>79667.267654</td>\n",
       "      <td>1948.503884</td>\n",
       "      <td>60204.020268</td>\n",
       "      <td>...</td>\n",
       "      <td>30.336359</td>\n",
       "      <td>0.664582</td>\n",
       "      <td>45.880913</td>\n",
       "      <td>1.689446</td>\n",
       "      <td>51.363583</td>\n",
       "      <td>-3.392489</td>\n",
       "      <td>26.738789</td>\n",
       "      <td>0.536961</td>\n",
       "      <td>29.146694</td>\n",
       "      <td>blues</td>\n",
       "    </tr>\n",
       "  </tbody>\n",
       "</table>\n",
       "<p>5 rows × 60 columns</p>\n",
       "</div>"
      ],
      "text/plain": [
       "            filename  length  chroma_stft_mean  chroma_stft_var  rms_mean  \\\n",
       "0  blues.00000.0.wav   66149          0.335406         0.091048  0.130405   \n",
       "1  blues.00000.1.wav   66149          0.343065         0.086147  0.112699   \n",
       "2  blues.00000.2.wav   66149          0.346815         0.092243  0.132003   \n",
       "3  blues.00000.3.wav   66149          0.363639         0.086856  0.132565   \n",
       "4  blues.00000.4.wav   66149          0.335579         0.088129  0.143289   \n",
       "\n",
       "    rms_var  spectral_centroid_mean  spectral_centroid_var  \\\n",
       "0  0.003521             1773.065032          167541.630869   \n",
       "1  0.001450             1816.693777           90525.690866   \n",
       "2  0.004620             1788.539719          111407.437613   \n",
       "3  0.002448             1655.289045          111952.284517   \n",
       "4  0.001701             1630.656199           79667.267654   \n",
       "\n",
       "   spectral_bandwidth_mean  spectral_bandwidth_var  ...  mfcc16_var  \\\n",
       "0              1972.744388           117335.771563  ...   39.687145   \n",
       "1              2010.051501            65671.875673  ...   64.748276   \n",
       "2              2084.565132            75124.921716  ...   67.336563   \n",
       "3              1960.039988            82913.639269  ...   47.739452   \n",
       "4              1948.503884            60204.020268  ...   30.336359   \n",
       "\n",
       "   mfcc17_mean  mfcc17_var  mfcc18_mean  mfcc18_var  mfcc19_mean  mfcc19_var  \\\n",
       "0    -3.241280   36.488243     0.722209   38.099152    -5.050335   33.618073   \n",
       "1    -6.055294   40.677654     0.159015   51.264091    -2.837699   97.030830   \n",
       "2    -1.768610   28.348579     2.378768   45.717648    -1.938424   53.050835   \n",
       "3    -3.841155   28.337118     1.218588   34.770935    -3.580352   50.836224   \n",
       "4     0.664582   45.880913     1.689446   51.363583    -3.392489   26.738789   \n",
       "\n",
       "   mfcc20_mean  mfcc20_var  label  \n",
       "0    -0.243027   43.771767  blues  \n",
       "1     5.784063   59.943081  blues  \n",
       "2     2.517375   33.105122  blues  \n",
       "3     3.630866   32.023678  blues  \n",
       "4     0.536961   29.146694  blues  \n",
       "\n",
       "[5 rows x 60 columns]"
      ]
     },
     "execution_count": 58,
     "metadata": {},
     "output_type": "execute_result"
    }
   ],
   "source": [
    "df = pd.read_csv('./features_3_sec.csv')\n",
    "df.head()"
   ]
  },
  {
   "cell_type": "code",
   "execution_count": 59,
   "id": "267a990b",
   "metadata": {},
   "outputs": [],
   "source": [
    "df = df.drop(\"filename\", axis=1)"
   ]
  },
  {
   "cell_type": "code",
   "execution_count": 13,
   "id": "21c3b15c",
   "metadata": {},
   "outputs": [],
   "source": [
    "from sklearn.preprocessing import LabelEncoder, StandardScaler"
   ]
  },
  {
   "cell_type": "code",
   "execution_count": 63,
   "id": "340c54ce",
   "metadata": {},
   "outputs": [
    {
     "data": {
      "text/plain": [
       "array([0, 0, 0, ..., 9, 9, 9])"
      ]
     },
     "execution_count": 63,
     "metadata": {},
     "output_type": "execute_result"
    }
   ],
   "source": [
    "class_list = df.iloc[:, -1]\n",
    "convertor = LabelEncoder()\n",
    "Y = convertor.fit_transform(class_list)\n",
    "Y"
   ]
  },
  {
   "cell_type": "code",
   "execution_count": 66,
   "id": "ced52b81",
   "metadata": {},
   "outputs": [
    {
     "data": {
      "text/plain": [
       "{0: 'blues',\n",
       " 1: 'classical',\n",
       " 2: 'country',\n",
       " 3: 'disco',\n",
       " 4: 'hiphop',\n",
       " 5: 'jazz',\n",
       " 6: 'metal',\n",
       " 7: 'pop',\n",
       " 8: 'reggae',\n",
       " 9: 'rock'}"
      ]
     },
     "execution_count": 66,
     "metadata": {},
     "output_type": "execute_result"
    }
   ],
   "source": [
    "dict(enumerate(convertor.classes_))"
   ]
  },
  {
   "cell_type": "code",
   "execution_count": 96,
   "id": "67bc3177",
   "metadata": {},
   "outputs": [
    {
     "data": {
      "text/html": [
       "<div>\n",
       "<style scoped>\n",
       "    .dataframe tbody tr th:only-of-type {\n",
       "        vertical-align: middle;\n",
       "    }\n",
       "\n",
       "    .dataframe tbody tr th {\n",
       "        vertical-align: top;\n",
       "    }\n",
       "\n",
       "    .dataframe thead th {\n",
       "        text-align: right;\n",
       "    }\n",
       "</style>\n",
       "<table border=\"1\" class=\"dataframe\">\n",
       "  <thead>\n",
       "    <tr style=\"text-align: right;\">\n",
       "      <th></th>\n",
       "      <th>length</th>\n",
       "      <th>chroma_stft_mean</th>\n",
       "      <th>chroma_stft_var</th>\n",
       "      <th>rms_mean</th>\n",
       "      <th>rms_var</th>\n",
       "      <th>spectral_centroid_mean</th>\n",
       "      <th>spectral_centroid_var</th>\n",
       "      <th>spectral_bandwidth_mean</th>\n",
       "      <th>spectral_bandwidth_var</th>\n",
       "      <th>rolloff_mean</th>\n",
       "      <th>...</th>\n",
       "      <th>mfcc16_var</th>\n",
       "      <th>mfcc17_mean</th>\n",
       "      <th>mfcc17_var</th>\n",
       "      <th>mfcc18_mean</th>\n",
       "      <th>mfcc18_var</th>\n",
       "      <th>mfcc19_mean</th>\n",
       "      <th>mfcc19_var</th>\n",
       "      <th>mfcc20_mean</th>\n",
       "      <th>mfcc20_var</th>\n",
       "      <th>label</th>\n",
       "    </tr>\n",
       "  </thead>\n",
       "  <tbody>\n",
       "    <tr>\n",
       "      <th>0</th>\n",
       "      <td>66149</td>\n",
       "      <td>0.335406</td>\n",
       "      <td>0.091048</td>\n",
       "      <td>0.130405</td>\n",
       "      <td>0.003521</td>\n",
       "      <td>1773.065032</td>\n",
       "      <td>167541.630869</td>\n",
       "      <td>1972.744388</td>\n",
       "      <td>117335.771563</td>\n",
       "      <td>3714.560359</td>\n",
       "      <td>...</td>\n",
       "      <td>39.687145</td>\n",
       "      <td>-3.241280</td>\n",
       "      <td>36.488243</td>\n",
       "      <td>0.722209</td>\n",
       "      <td>38.099152</td>\n",
       "      <td>-5.050335</td>\n",
       "      <td>33.618073</td>\n",
       "      <td>-0.243027</td>\n",
       "      <td>43.771767</td>\n",
       "      <td>blues</td>\n",
       "    </tr>\n",
       "    <tr>\n",
       "      <th>1</th>\n",
       "      <td>66149</td>\n",
       "      <td>0.343065</td>\n",
       "      <td>0.086147</td>\n",
       "      <td>0.112699</td>\n",
       "      <td>0.001450</td>\n",
       "      <td>1816.693777</td>\n",
       "      <td>90525.690866</td>\n",
       "      <td>2010.051501</td>\n",
       "      <td>65671.875673</td>\n",
       "      <td>3869.682242</td>\n",
       "      <td>...</td>\n",
       "      <td>64.748276</td>\n",
       "      <td>-6.055294</td>\n",
       "      <td>40.677654</td>\n",
       "      <td>0.159015</td>\n",
       "      <td>51.264091</td>\n",
       "      <td>-2.837699</td>\n",
       "      <td>97.030830</td>\n",
       "      <td>5.784063</td>\n",
       "      <td>59.943081</td>\n",
       "      <td>blues</td>\n",
       "    </tr>\n",
       "    <tr>\n",
       "      <th>2</th>\n",
       "      <td>66149</td>\n",
       "      <td>0.346815</td>\n",
       "      <td>0.092243</td>\n",
       "      <td>0.132003</td>\n",
       "      <td>0.004620</td>\n",
       "      <td>1788.539719</td>\n",
       "      <td>111407.437613</td>\n",
       "      <td>2084.565132</td>\n",
       "      <td>75124.921716</td>\n",
       "      <td>3997.639160</td>\n",
       "      <td>...</td>\n",
       "      <td>67.336563</td>\n",
       "      <td>-1.768610</td>\n",
       "      <td>28.348579</td>\n",
       "      <td>2.378768</td>\n",
       "      <td>45.717648</td>\n",
       "      <td>-1.938424</td>\n",
       "      <td>53.050835</td>\n",
       "      <td>2.517375</td>\n",
       "      <td>33.105122</td>\n",
       "      <td>blues</td>\n",
       "    </tr>\n",
       "    <tr>\n",
       "      <th>3</th>\n",
       "      <td>66149</td>\n",
       "      <td>0.363639</td>\n",
       "      <td>0.086856</td>\n",
       "      <td>0.132565</td>\n",
       "      <td>0.002448</td>\n",
       "      <td>1655.289045</td>\n",
       "      <td>111952.284517</td>\n",
       "      <td>1960.039988</td>\n",
       "      <td>82913.639269</td>\n",
       "      <td>3568.300218</td>\n",
       "      <td>...</td>\n",
       "      <td>47.739452</td>\n",
       "      <td>-3.841155</td>\n",
       "      <td>28.337118</td>\n",
       "      <td>1.218588</td>\n",
       "      <td>34.770935</td>\n",
       "      <td>-3.580352</td>\n",
       "      <td>50.836224</td>\n",
       "      <td>3.630866</td>\n",
       "      <td>32.023678</td>\n",
       "      <td>blues</td>\n",
       "    </tr>\n",
       "    <tr>\n",
       "      <th>4</th>\n",
       "      <td>66149</td>\n",
       "      <td>0.335579</td>\n",
       "      <td>0.088129</td>\n",
       "      <td>0.143289</td>\n",
       "      <td>0.001701</td>\n",
       "      <td>1630.656199</td>\n",
       "      <td>79667.267654</td>\n",
       "      <td>1948.503884</td>\n",
       "      <td>60204.020268</td>\n",
       "      <td>3469.992864</td>\n",
       "      <td>...</td>\n",
       "      <td>30.336359</td>\n",
       "      <td>0.664582</td>\n",
       "      <td>45.880913</td>\n",
       "      <td>1.689446</td>\n",
       "      <td>51.363583</td>\n",
       "      <td>-3.392489</td>\n",
       "      <td>26.738789</td>\n",
       "      <td>0.536961</td>\n",
       "      <td>29.146694</td>\n",
       "      <td>blues</td>\n",
       "    </tr>\n",
       "  </tbody>\n",
       "</table>\n",
       "<p>5 rows × 59 columns</p>\n",
       "</div>"
      ],
      "text/plain": [
       "   length  chroma_stft_mean  chroma_stft_var  rms_mean   rms_var  \\\n",
       "0   66149          0.335406         0.091048  0.130405  0.003521   \n",
       "1   66149          0.343065         0.086147  0.112699  0.001450   \n",
       "2   66149          0.346815         0.092243  0.132003  0.004620   \n",
       "3   66149          0.363639         0.086856  0.132565  0.002448   \n",
       "4   66149          0.335579         0.088129  0.143289  0.001701   \n",
       "\n",
       "   spectral_centroid_mean  spectral_centroid_var  spectral_bandwidth_mean  \\\n",
       "0             1773.065032          167541.630869              1972.744388   \n",
       "1             1816.693777           90525.690866              2010.051501   \n",
       "2             1788.539719          111407.437613              2084.565132   \n",
       "3             1655.289045          111952.284517              1960.039988   \n",
       "4             1630.656199           79667.267654              1948.503884   \n",
       "\n",
       "   spectral_bandwidth_var  rolloff_mean  ...  mfcc16_var  mfcc17_mean  \\\n",
       "0           117335.771563   3714.560359  ...   39.687145    -3.241280   \n",
       "1            65671.875673   3869.682242  ...   64.748276    -6.055294   \n",
       "2            75124.921716   3997.639160  ...   67.336563    -1.768610   \n",
       "3            82913.639269   3568.300218  ...   47.739452    -3.841155   \n",
       "4            60204.020268   3469.992864  ...   30.336359     0.664582   \n",
       "\n",
       "   mfcc17_var  mfcc18_mean  mfcc18_var  mfcc19_mean  mfcc19_var  mfcc20_mean  \\\n",
       "0   36.488243     0.722209   38.099152    -5.050335   33.618073    -0.243027   \n",
       "1   40.677654     0.159015   51.264091    -2.837699   97.030830     5.784063   \n",
       "2   28.348579     2.378768   45.717648    -1.938424   53.050835     2.517375   \n",
       "3   28.337118     1.218588   34.770935    -3.580352   50.836224     3.630866   \n",
       "4   45.880913     1.689446   51.363583    -3.392489   26.738789     0.536961   \n",
       "\n",
       "   mfcc20_var  label  \n",
       "0   43.771767  blues  \n",
       "1   59.943081  blues  \n",
       "2   33.105122  blues  \n",
       "3   32.023678  blues  \n",
       "4   29.146694  blues  \n",
       "\n",
       "[5 rows x 59 columns]"
      ]
     },
     "execution_count": 96,
     "metadata": {},
     "output_type": "execute_result"
    }
   ],
   "source": [
    "df.head()"
   ]
  },
  {
   "cell_type": "code",
   "execution_count": 102,
   "id": "17141118",
   "metadata": {},
   "outputs": [
    {
     "data": {
      "text/plain": [
       "array([ 6.61490000e+04,  3.35406363e-01,  9.10482928e-02,  1.30405024e-01,\n",
       "        3.52100423e-03,  1.77306503e+03,  1.67541631e+05,  1.97274439e+03,\n",
       "        1.17335772e+05,  3.71456036e+03,  1.08078989e+06,  8.18509615e-02,\n",
       "        5.57687240e-04, -7.84848016e-05,  8.35359003e-03, -6.81618330e-05,\n",
       "        5.53519279e-03,  1.29199219e+02, -1.18627914e+02,  2.44028662e+03,\n",
       "        1.25083626e+02,  2.60956909e+02, -2.34437237e+01,  3.64081726e+02,\n",
       "        4.13214836e+01,  1.81694855e+02, -5.97610807e+00,  1.52963135e+02,\n",
       "        2.01151409e+01,  7.56522980e+01, -1.60454102e+01,  4.02271042e+01,\n",
       "        1.78551979e+01,  8.43202820e+01, -1.46334343e+01,  8.34372330e+01,\n",
       "        1.02705269e+01,  9.70013351e+01, -9.70827866e+00,  6.66698914e+01,\n",
       "        1.01838751e+01,  4.51036110e+01, -4.68161440e+00,  3.41694984e+01,\n",
       "        8.41743946e+00,  4.82694435e+01, -7.23347664e+00,  4.27709465e+01,\n",
       "       -2.85360336e+00,  3.96871452e+01, -3.24128032e+00,  3.64882431e+01,\n",
       "        7.22208977e-01,  3.80991516e+01, -5.05033541e+00,  3.36180725e+01,\n",
       "       -2.43026793e-01,  4.37717667e+01])"
      ]
     },
     "execution_count": 102,
     "metadata": {},
     "output_type": "execute_result"
    }
   ],
   "source": [
    "np.array(df.iloc[:, :-1])[0]"
   ]
  },
  {
   "cell_type": "code",
   "execution_count": 112,
   "id": "6bd0ace7",
   "metadata": {},
   "outputs": [
    {
     "data": {
      "text/plain": [
       "array([[ 6.61500000e+04,  3.04152340e-01,  8.96082595e-02,\n",
       "         7.39009157e-02,  1.33028743e-03,  1.14845147e+03,\n",
       "         1.17070867e+05,  1.48164065e+03,  1.41709110e+05,\n",
       "         2.28442439e+03,  1.32471165e+06,  4.94478666e-02,\n",
       "         1.99163101e-04,  1.53779081e-06,  4.24404489e-03,\n",
       "        -5.36792286e-05,  1.13063864e-03,  6.79995888e+01,\n",
       "        -2.46075668e+02,  9.10991406e+03,  1.62996277e+02,\n",
       "         7.53800537e+02, -7.90026474e+00,  9.49910095e+02,\n",
       "         3.39686470e+01,  2.88122101e+02, -1.83229942e+01,\n",
       "         2.84370605e+02,  1.06111107e+01,  9.05681152e+01,\n",
       "        -2.35836868e+01,  8.15655060e+01,  2.86467099e+00,\n",
       "         7.77356567e+01, -4.69435930e+00,  9.14362946e+01,\n",
       "         4.07345533e+00,  6.89018173e+01, -1.39712524e+01,\n",
       "         2.26831322e+01, -5.00481749e+00,  7.41892929e+01,\n",
       "        -1.04995537e+01,  4.45922165e+01, -3.91649842e+00,\n",
       "         2.44510860e+01, -7.19105291e+00,  2.52127438e+01,\n",
       "        -4.91248035e+00,  3.82210197e+01,  8.09489012e-01,\n",
       "         1.82803860e+01, -3.50360298e+00,  2.34829140e+01,\n",
       "        -4.32974958e+00,  3.20468826e+01, -6.79472542e+00,\n",
       "         2.32766075e+01]])"
      ]
     },
     "execution_count": 112,
     "metadata": {},
     "output_type": "execute_result"
    }
   ],
   "source": [
    "features"
   ]
  },
  {
   "cell_type": "code",
   "execution_count": 69,
   "id": "449b0d36",
   "metadata": {},
   "outputs": [
    {
     "data": {
      "text/plain": [
       "(9990, 58)"
      ]
     },
     "execution_count": 69,
     "metadata": {},
     "output_type": "execute_result"
    }
   ],
   "source": [
    "fit = StandardScaler()\n",
    "X = fit.fit_transform(np.array(df.iloc[:, :-1], dtype=float))\n",
    "X.shape"
   ]
  },
  {
   "cell_type": "code",
   "execution_count": 78,
   "id": "3ab8f2b9",
   "metadata": {},
   "outputs": [
    {
     "data": {
      "text/plain": [
       "array([ 0.        , -0.48780784,  0.64052047, -0.00662408,  0.2355679 ,\n",
       "       -0.56682811, -0.57279059, -0.4939833 , -0.00922924, -0.51859012,\n",
       "       -0.36795231, -0.45406404, -0.5707769 ,  0.168385  , -0.33595446,\n",
       "        0.29549517, -0.00997459,  0.13100898,  0.25172824, -0.14198751,\n",
       "        0.69496363, -0.71318496, -0.56103329, -0.03415077,  0.22904165,\n",
       "       -0.01664507, -0.29237898,  0.08369783,  0.37304378, -0.4233665 ,\n",
       "       -0.9219196 , -0.88928787,  0.63731806,  0.2076171 , -0.75401836,\n",
       "        0.2040636 ,  0.22472928,  0.67357662, -0.40969216,  0.07104592,\n",
       "        0.6938639 , -0.33850305,  0.07076268, -0.64235701,  1.02775024,\n",
       "       -0.15378764, -0.51579058, -0.265968  , -0.75012151, -0.2991081 ,\n",
       "        0.16864712, -0.42513736, -0.00342281, -0.37693831, -0.49946359,\n",
       "       -0.51356204,  0.12841417, -0.29178072])"
      ]
     },
     "execution_count": 78,
     "metadata": {},
     "output_type": "execute_result"
    }
   ],
   "source": [
    "X[0]"
   ]
  },
  {
   "cell_type": "code",
   "execution_count": 113,
   "id": "d6e5a6d7",
   "metadata": {},
   "outputs": [
    {
     "data": {
      "text/plain": [
       "array([[0., 0., 0., 0., 0., 0., 0., 0., 0., 0., 0., 0., 0., 0., 0., 0.,\n",
       "        0., 0., 0., 0., 0., 0., 0., 0., 0., 0., 0., 0., 0., 0., 0., 0.,\n",
       "        0., 0., 0., 0., 0., 0., 0., 0., 0., 0., 0., 0., 0., 0., 0., 0.,\n",
       "        0., 0., 0., 0., 0., 0., 0., 0., 0., 0.]])"
      ]
     },
     "execution_count": 113,
     "metadata": {},
     "output_type": "execute_result"
    }
   ],
   "source": [
    "f = fit.fit_transform(features)\n",
    "f"
   ]
  },
  {
   "cell_type": "code",
   "execution_count": 79,
   "id": "18aacc72",
   "metadata": {},
   "outputs": [],
   "source": [
    "x = np.reshape(X[0], [1, 58])"
   ]
  },
  {
   "cell_type": "code",
   "execution_count": 80,
   "id": "2ff3ba86",
   "metadata": {},
   "outputs": [
    {
     "data": {
      "text/plain": [
       "array([[ 0.        , -0.48780784,  0.64052047, -0.00662408,  0.2355679 ,\n",
       "        -0.56682811, -0.57279059, -0.4939833 , -0.00922924, -0.51859012,\n",
       "        -0.36795231, -0.45406404, -0.5707769 ,  0.168385  , -0.33595446,\n",
       "         0.29549517, -0.00997459,  0.13100898,  0.25172824, -0.14198751,\n",
       "         0.69496363, -0.71318496, -0.56103329, -0.03415077,  0.22904165,\n",
       "        -0.01664507, -0.29237898,  0.08369783,  0.37304378, -0.4233665 ,\n",
       "        -0.9219196 , -0.88928787,  0.63731806,  0.2076171 , -0.75401836,\n",
       "         0.2040636 ,  0.22472928,  0.67357662, -0.40969216,  0.07104592,\n",
       "         0.6938639 , -0.33850305,  0.07076268, -0.64235701,  1.02775024,\n",
       "        -0.15378764, -0.51579058, -0.265968  , -0.75012151, -0.2991081 ,\n",
       "         0.16864712, -0.42513736, -0.00342281, -0.37693831, -0.49946359,\n",
       "        -0.51356204,  0.12841417, -0.29178072]])"
      ]
     },
     "execution_count": 80,
     "metadata": {},
     "output_type": "execute_result"
    }
   ],
   "source": [
    "x"
   ]
  },
  {
   "cell_type": "code",
   "execution_count": 84,
   "id": "ca7dcf40",
   "metadata": {},
   "outputs": [
    {
     "data": {
      "text/plain": [
       "array([[1.00000000e+00, 2.16240966e-11, 2.05596296e-09, 4.81293517e-17,\n",
       "        1.48144639e-11, 4.90437465e-12, 2.44012536e-12, 1.21887052e-13,\n",
       "        1.09824816e-10, 3.06826431e-09]], dtype=float32)"
      ]
     },
     "execution_count": 84,
     "metadata": {},
     "output_type": "execute_result"
    }
   ],
   "source": [
    "pred = model.predict(x)\n",
    "pred"
   ]
  },
  {
   "cell_type": "code",
   "execution_count": 85,
   "id": "452420d3",
   "metadata": {},
   "outputs": [
    {
     "data": {
      "text/plain": [
       "array([0], dtype=int64)"
      ]
     },
     "execution_count": 85,
     "metadata": {},
     "output_type": "execute_result"
    }
   ],
   "source": [
    "model.predict_classes(x)"
   ]
  },
  {
   "cell_type": "code",
   "execution_count": 86,
   "id": "8f32b0ca",
   "metadata": {},
   "outputs": [
    {
     "data": {
      "text/plain": [
       "1.0"
      ]
     },
     "execution_count": 86,
     "metadata": {},
     "output_type": "execute_result"
    }
   ],
   "source": [
    "np.amax(pred)"
   ]
  },
  {
   "cell_type": "code",
   "execution_count": null,
   "id": "9d36b713",
   "metadata": {},
   "outputs": [],
   "source": []
  },
  {
   "cell_type": "code",
   "execution_count": null,
   "id": "2b25a587",
   "metadata": {},
   "outputs": [],
   "source": []
  },
  {
   "cell_type": "code",
   "execution_count": null,
   "id": "43687316",
   "metadata": {},
   "outputs": [],
   "source": []
  },
  {
   "cell_type": "code",
   "execution_count": null,
   "id": "cef458cf",
   "metadata": {},
   "outputs": [],
   "source": []
  },
  {
   "cell_type": "code",
   "execution_count": 106,
   "id": "445b03e5",
   "metadata": {
    "collapsed": true
   },
   "outputs": [
    {
     "data": {
      "text/plain": [
       "[66150,\n",
       " 0.30415234,\n",
       " 0.08960826,\n",
       " 0.073900916,\n",
       " 0.0013302874,\n",
       " 1148.4514654857155,\n",
       " 117070.86654881411,\n",
       " 1481.6406466510534,\n",
       " 141709.11046567862,\n",
       " 2284.4243915264424,\n",
       " 1324711.6495780337,\n",
       " 0.049447866586538464,\n",
       " 0.00019916310112857256,\n",
       " 1.5377908e-06,\n",
       " 0.004244045,\n",
       " -5.367923e-05,\n",
       " 0.0011306386,\n",
       " 67.99958881578948,\n",
       " -246.07567,\n",
       " 9109.914,\n",
       " 162.99628,\n",
       " 753.80054,\n",
       " -7.9002647,\n",
       " 949.9101,\n",
       " 33.968647,\n",
       " 288.1221,\n",
       " -18.322994,\n",
       " 284.3706,\n",
       " 10.611111,\n",
       " 90.568115,\n",
       " -23.583687,\n",
       " 81.565506,\n",
       " 2.864671,\n",
       " 77.73566,\n",
       " -4.6943593,\n",
       " 91.436295,\n",
       " 4.0734553,\n",
       " 68.90182,\n",
       " -13.971252,\n",
       " 22.683132,\n",
       " -5.0048175,\n",
       " 74.18929,\n",
       " -10.499554,\n",
       " 44.592216,\n",
       " -3.9164984,\n",
       " 24.451086,\n",
       " -7.191053,\n",
       " 25.212744,\n",
       " -4.9124804,\n",
       " 38.22102,\n",
       " 0.809489,\n",
       " 18.280386,\n",
       " -3.503603,\n",
       " 23.482914,\n",
       " -4.3297496,\n",
       " 32.046883,\n",
       " -6.7947254,\n",
       " 23.276608]"
      ]
     },
     "execution_count": 106,
     "metadata": {},
     "output_type": "execute_result"
    }
   ],
   "source": [
    "features"
   ]
  },
  {
   "cell_type": "code",
   "execution_count": 91,
   "id": "59743f5c",
   "metadata": {},
   "outputs": [
    {
     "data": {
      "text/plain": [
       "array([[0., 0., 0., 0., 0., 0., 0., 0., 0., 0., 0., 0., 0., 0., 0., 0.,\n",
       "        0., 0., 0., 0., 0., 0., 0., 0., 0., 0., 0., 0., 0., 0., 0., 0.,\n",
       "        0., 0., 0., 0., 0., 0., 0., 0., 0., 0., 0., 0., 0., 0., 0., 0.,\n",
       "        0., 0., 0., 0., 0., 0., 0., 0., 0., 0.]])"
      ]
     },
     "execution_count": 91,
     "metadata": {},
     "output_type": "execute_result"
    }
   ],
   "source": [
    "fit_feat"
   ]
  },
  {
   "cell_type": "code",
   "execution_count": null,
   "id": "58ff3e6d",
   "metadata": {},
   "outputs": [],
   "source": []
  },
  {
   "cell_type": "code",
   "execution_count": null,
   "id": "ccbbfab4",
   "metadata": {},
   "outputs": [],
   "source": []
  },
  {
   "cell_type": "code",
   "execution_count": null,
   "id": "81c61066",
   "metadata": {},
   "outputs": [],
   "source": []
  },
  {
   "cell_type": "code",
   "execution_count": null,
   "id": "51a3ffda",
   "metadata": {},
   "outputs": [],
   "source": []
  },
  {
   "cell_type": "code",
   "execution_count": null,
   "id": "3127cccd",
   "metadata": {},
   "outputs": [],
   "source": []
  },
  {
   "cell_type": "code",
   "execution_count": 9,
   "id": "516a8091",
   "metadata": {},
   "outputs": [
    {
     "data": {
      "text/plain": [
       "array([[ 3.02521855e-01,  8.75512958e-02,  1.03452876e-01,\n",
       "         3.98116233e-03,  1.83201160e+03,  1.03048383e+06,\n",
       "         1.72958080e+03,  2.01846074e+05,  3.48146763e+03,\n",
       "         3.27438620e+06,  9.40415337e-02,  6.23319561e-03,\n",
       "         2.10727126e-06,  8.08432605e-03, -2.76193732e-05,\n",
       "         3.24447872e-03,  6.98374155e+01, -1.77801758e+02,\n",
       "         7.30745459e+03,  1.18203163e+02,  3.19520532e+03,\n",
       "        -1.75706291e+01,  6.54107910e+02,  3.07609310e+01,\n",
       "         4.85689758e+02, -2.17425537e+01,  4.33276642e+02,\n",
       "         1.19192629e+01,  2.66407593e+02, -2.07342987e+01,\n",
       "         1.69706009e+02,  3.18528819e+00,  1.33703354e+02,\n",
       "        -8.58081818e+00,  1.72225754e+02, -9.32885230e-01,\n",
       "         1.00121002e+02, -1.17722454e+01,  7.65547562e+01,\n",
       "        -2.40876389e+00,  7.88026352e+01, -9.34844589e+00,\n",
       "         8.01077194e+01, -9.94263554e+00,  4.75344315e+01,\n",
       "        -3.90218353e+00,  6.00206985e+01, -5.57456207e+00,\n",
       "         7.25767365e+01, -1.83931434e+00,  6.86661224e+01,\n",
       "        -2.78931665e+00,  4.24705238e+01, -3.04780483e+00,\n",
       "         3.98033829e+01, -8.10973167e+00,  4.62829361e+01]])"
      ]
     },
     "execution_count": 9,
     "metadata": {},
     "output_type": "execute_result"
    }
   ],
   "source": [
    "features"
   ]
  },
  {
   "cell_type": "code",
   "execution_count": 10,
   "id": "26b0529c",
   "metadata": {},
   "outputs": [],
   "source": [
    "X_feat = np.array(features)"
   ]
  },
  {
   "cell_type": "code",
   "execution_count": 17,
   "id": "99737df6",
   "metadata": {},
   "outputs": [
    {
     "ename": "ValueError",
     "evalue": "Found array with dim 3. StandardScaler expected <= 2.",
     "output_type": "error",
     "traceback": [
      "\u001b[1;31m---------------------------------------------------------------------------\u001b[0m",
      "\u001b[1;31mValueError\u001b[0m                                Traceback (most recent call last)",
      "\u001b[1;32mC:\\Users\\SAIGAN~1\\AppData\\Local\\Temp/ipykernel_20068/1150429867.py\u001b[0m in \u001b[0;36m<module>\u001b[1;34m\u001b[0m\n\u001b[0;32m      1\u001b[0m \u001b[0mfit\u001b[0m \u001b[1;33m=\u001b[0m \u001b[0mStandardScaler\u001b[0m\u001b[1;33m(\u001b[0m\u001b[1;33m)\u001b[0m\u001b[1;33m\u001b[0m\u001b[1;33m\u001b[0m\u001b[0m\n\u001b[1;32m----> 2\u001b[1;33m \u001b[0mX_trans\u001b[0m \u001b[1;33m=\u001b[0m \u001b[0mfit\u001b[0m\u001b[1;33m.\u001b[0m\u001b[0mfit_transform\u001b[0m\u001b[1;33m(\u001b[0m\u001b[0mX_feat\u001b[0m\u001b[1;33m[\u001b[0m\u001b[1;33m:\u001b[0m\u001b[1;33m,\u001b[0m \u001b[0mnp\u001b[0m\u001b[1;33m.\u001b[0m\u001b[0mnewaxis\u001b[0m\u001b[1;33m]\u001b[0m\u001b[1;33m)\u001b[0m\u001b[1;33m\u001b[0m\u001b[1;33m\u001b[0m\u001b[0m\n\u001b[0m",
      "\u001b[1;32mC:\\Anaconda3\\lib\\site-packages\\sklearn\\base.py\u001b[0m in \u001b[0;36mfit_transform\u001b[1;34m(self, X, y, **fit_params)\u001b[0m\n\u001b[0;32m    845\u001b[0m         \u001b[1;32mif\u001b[0m \u001b[0my\u001b[0m \u001b[1;32mis\u001b[0m \u001b[1;32mNone\u001b[0m\u001b[1;33m:\u001b[0m\u001b[1;33m\u001b[0m\u001b[1;33m\u001b[0m\u001b[0m\n\u001b[0;32m    846\u001b[0m             \u001b[1;31m# fit method of arity 1 (unsupervised transformation)\u001b[0m\u001b[1;33m\u001b[0m\u001b[1;33m\u001b[0m\u001b[1;33m\u001b[0m\u001b[0m\n\u001b[1;32m--> 847\u001b[1;33m             \u001b[1;32mreturn\u001b[0m \u001b[0mself\u001b[0m\u001b[1;33m.\u001b[0m\u001b[0mfit\u001b[0m\u001b[1;33m(\u001b[0m\u001b[0mX\u001b[0m\u001b[1;33m,\u001b[0m \u001b[1;33m**\u001b[0m\u001b[0mfit_params\u001b[0m\u001b[1;33m)\u001b[0m\u001b[1;33m.\u001b[0m\u001b[0mtransform\u001b[0m\u001b[1;33m(\u001b[0m\u001b[0mX\u001b[0m\u001b[1;33m)\u001b[0m\u001b[1;33m\u001b[0m\u001b[1;33m\u001b[0m\u001b[0m\n\u001b[0m\u001b[0;32m    848\u001b[0m         \u001b[1;32melse\u001b[0m\u001b[1;33m:\u001b[0m\u001b[1;33m\u001b[0m\u001b[1;33m\u001b[0m\u001b[0m\n\u001b[0;32m    849\u001b[0m             \u001b[1;31m# fit method of arity 2 (supervised transformation)\u001b[0m\u001b[1;33m\u001b[0m\u001b[1;33m\u001b[0m\u001b[1;33m\u001b[0m\u001b[0m\n",
      "\u001b[1;32mC:\\Anaconda3\\lib\\site-packages\\sklearn\\preprocessing\\_data.py\u001b[0m in \u001b[0;36mfit\u001b[1;34m(self, X, y, sample_weight)\u001b[0m\n\u001b[0;32m    804\u001b[0m         \u001b[1;31m# Reset internal state before fitting\u001b[0m\u001b[1;33m\u001b[0m\u001b[1;33m\u001b[0m\u001b[1;33m\u001b[0m\u001b[0m\n\u001b[0;32m    805\u001b[0m         \u001b[0mself\u001b[0m\u001b[1;33m.\u001b[0m\u001b[0m_reset\u001b[0m\u001b[1;33m(\u001b[0m\u001b[1;33m)\u001b[0m\u001b[1;33m\u001b[0m\u001b[1;33m\u001b[0m\u001b[0m\n\u001b[1;32m--> 806\u001b[1;33m         \u001b[1;32mreturn\u001b[0m \u001b[0mself\u001b[0m\u001b[1;33m.\u001b[0m\u001b[0mpartial_fit\u001b[0m\u001b[1;33m(\u001b[0m\u001b[0mX\u001b[0m\u001b[1;33m,\u001b[0m \u001b[0my\u001b[0m\u001b[1;33m,\u001b[0m \u001b[0msample_weight\u001b[0m\u001b[1;33m)\u001b[0m\u001b[1;33m\u001b[0m\u001b[1;33m\u001b[0m\u001b[0m\n\u001b[0m\u001b[0;32m    807\u001b[0m \u001b[1;33m\u001b[0m\u001b[0m\n\u001b[0;32m    808\u001b[0m     \u001b[1;32mdef\u001b[0m \u001b[0mpartial_fit\u001b[0m\u001b[1;33m(\u001b[0m\u001b[0mself\u001b[0m\u001b[1;33m,\u001b[0m \u001b[0mX\u001b[0m\u001b[1;33m,\u001b[0m \u001b[0my\u001b[0m\u001b[1;33m=\u001b[0m\u001b[1;32mNone\u001b[0m\u001b[1;33m,\u001b[0m \u001b[0msample_weight\u001b[0m\u001b[1;33m=\u001b[0m\u001b[1;32mNone\u001b[0m\u001b[1;33m)\u001b[0m\u001b[1;33m:\u001b[0m\u001b[1;33m\u001b[0m\u001b[1;33m\u001b[0m\u001b[0m\n",
      "\u001b[1;32mC:\\Anaconda3\\lib\\site-packages\\sklearn\\preprocessing\\_data.py\u001b[0m in \u001b[0;36mpartial_fit\u001b[1;34m(self, X, y, sample_weight)\u001b[0m\n\u001b[0;32m    839\u001b[0m         \"\"\"\n\u001b[0;32m    840\u001b[0m         \u001b[0mfirst_call\u001b[0m \u001b[1;33m=\u001b[0m \u001b[1;32mnot\u001b[0m \u001b[0mhasattr\u001b[0m\u001b[1;33m(\u001b[0m\u001b[0mself\u001b[0m\u001b[1;33m,\u001b[0m \u001b[1;34m\"n_samples_seen_\"\u001b[0m\u001b[1;33m)\u001b[0m\u001b[1;33m\u001b[0m\u001b[1;33m\u001b[0m\u001b[0m\n\u001b[1;32m--> 841\u001b[1;33m         X = self._validate_data(\n\u001b[0m\u001b[0;32m    842\u001b[0m             \u001b[0mX\u001b[0m\u001b[1;33m,\u001b[0m\u001b[1;33m\u001b[0m\u001b[1;33m\u001b[0m\u001b[0m\n\u001b[0;32m    843\u001b[0m             \u001b[0maccept_sparse\u001b[0m\u001b[1;33m=\u001b[0m\u001b[1;33m(\u001b[0m\u001b[1;34m\"csr\"\u001b[0m\u001b[1;33m,\u001b[0m \u001b[1;34m\"csc\"\u001b[0m\u001b[1;33m)\u001b[0m\u001b[1;33m,\u001b[0m\u001b[1;33m\u001b[0m\u001b[1;33m\u001b[0m\u001b[0m\n",
      "\u001b[1;32mC:\\Anaconda3\\lib\\site-packages\\sklearn\\base.py\u001b[0m in \u001b[0;36m_validate_data\u001b[1;34m(self, X, y, reset, validate_separately, **check_params)\u001b[0m\n\u001b[0;32m    559\u001b[0m             \u001b[1;32mraise\u001b[0m \u001b[0mValueError\u001b[0m\u001b[1;33m(\u001b[0m\u001b[1;34m\"Validation should be done on X, y or both.\"\u001b[0m\u001b[1;33m)\u001b[0m\u001b[1;33m\u001b[0m\u001b[1;33m\u001b[0m\u001b[0m\n\u001b[0;32m    560\u001b[0m         \u001b[1;32melif\u001b[0m \u001b[1;32mnot\u001b[0m \u001b[0mno_val_X\u001b[0m \u001b[1;32mand\u001b[0m \u001b[0mno_val_y\u001b[0m\u001b[1;33m:\u001b[0m\u001b[1;33m\u001b[0m\u001b[1;33m\u001b[0m\u001b[0m\n\u001b[1;32m--> 561\u001b[1;33m             \u001b[0mX\u001b[0m \u001b[1;33m=\u001b[0m \u001b[0mcheck_array\u001b[0m\u001b[1;33m(\u001b[0m\u001b[0mX\u001b[0m\u001b[1;33m,\u001b[0m \u001b[1;33m**\u001b[0m\u001b[0mcheck_params\u001b[0m\u001b[1;33m)\u001b[0m\u001b[1;33m\u001b[0m\u001b[1;33m\u001b[0m\u001b[0m\n\u001b[0m\u001b[0;32m    562\u001b[0m             \u001b[0mout\u001b[0m \u001b[1;33m=\u001b[0m \u001b[0mX\u001b[0m\u001b[1;33m\u001b[0m\u001b[1;33m\u001b[0m\u001b[0m\n\u001b[0;32m    563\u001b[0m         \u001b[1;32melif\u001b[0m \u001b[0mno_val_X\u001b[0m \u001b[1;32mand\u001b[0m \u001b[1;32mnot\u001b[0m \u001b[0mno_val_y\u001b[0m\u001b[1;33m:\u001b[0m\u001b[1;33m\u001b[0m\u001b[1;33m\u001b[0m\u001b[0m\n",
      "\u001b[1;32mC:\\Anaconda3\\lib\\site-packages\\sklearn\\utils\\validation.py\u001b[0m in \u001b[0;36mcheck_array\u001b[1;34m(array, accept_sparse, accept_large_sparse, dtype, order, copy, force_all_finite, ensure_2d, allow_nd, ensure_min_samples, ensure_min_features, estimator)\u001b[0m\n\u001b[0;32m    784\u001b[0m                 ) from e\n\u001b[0;32m    785\u001b[0m         \u001b[1;32mif\u001b[0m \u001b[1;32mnot\u001b[0m \u001b[0mallow_nd\u001b[0m \u001b[1;32mand\u001b[0m \u001b[0marray\u001b[0m\u001b[1;33m.\u001b[0m\u001b[0mndim\u001b[0m \u001b[1;33m>=\u001b[0m \u001b[1;36m3\u001b[0m\u001b[1;33m:\u001b[0m\u001b[1;33m\u001b[0m\u001b[1;33m\u001b[0m\u001b[0m\n\u001b[1;32m--> 786\u001b[1;33m             raise ValueError(\n\u001b[0m\u001b[0;32m    787\u001b[0m                 \u001b[1;34m\"Found array with dim %d. %s expected <= 2.\"\u001b[0m\u001b[1;33m\u001b[0m\u001b[1;33m\u001b[0m\u001b[0m\n\u001b[0;32m    788\u001b[0m                 \u001b[1;33m%\u001b[0m \u001b[1;33m(\u001b[0m\u001b[0marray\u001b[0m\u001b[1;33m.\u001b[0m\u001b[0mndim\u001b[0m\u001b[1;33m,\u001b[0m \u001b[0mestimator_name\u001b[0m\u001b[1;33m)\u001b[0m\u001b[1;33m\u001b[0m\u001b[1;33m\u001b[0m\u001b[0m\n",
      "\u001b[1;31mValueError\u001b[0m: Found array with dim 3. StandardScaler expected <= 2."
     ]
    }
   ],
   "source": [
    "fit = StandardScaler()\n",
    "X_trans = fit.fit_transform(X_feat[:, np.newaxis])"
   ]
  },
  {
   "cell_type": "code",
   "execution_count": 16,
   "id": "c7362827",
   "metadata": {},
   "outputs": [
    {
     "data": {
      "text/plain": [
       "array([[0., 0., 0., 0., 0., 0., 0., 0., 0., 0., 0., 0., 0., 0., 0., 0.,\n",
       "        0., 0., 0., 0., 0., 0., 0., 0., 0., 0., 0., 0., 0., 0., 0., 0.,\n",
       "        0., 0., 0., 0., 0., 0., 0., 0., 0., 0., 0., 0., 0., 0., 0., 0.,\n",
       "        0., 0., 0., 0., 0., 0., 0., 0., 0.]])"
      ]
     },
     "execution_count": 16,
     "metadata": {},
     "output_type": "execute_result"
    }
   ],
   "source": [
    "X_trans"
   ]
  },
  {
   "cell_type": "code",
   "execution_count": 125,
   "id": "063cf462",
   "metadata": {},
   "outputs": [],
   "source": [
    "X_trans = X_trans.T"
   ]
  },
  {
   "cell_type": "code",
   "execution_count": 126,
   "id": "cee11823",
   "metadata": {},
   "outputs": [
    {
     "data": {
      "text/plain": [
       "array([[ 0.21569457, -0.16564838, -0.16564962, -0.16564971, -0.16565013,\n",
       "        -0.15902948,  0.50924563, -0.1571087 ,  0.65128137, -0.15248077,\n",
       "         7.47111133, -0.16564985, -0.16565013, -0.16565013, -0.16565011,\n",
       "        -0.16565013, -0.16565013, -0.16525813, -0.16706872, -0.11313286,\n",
       "        -0.16471048, -0.16130459, -0.16569568, -0.16017405, -0.16545431,\n",
       "        -0.16398915, -0.16575576, -0.16401078, -0.16558896, -0.16512802,\n",
       "        -0.16578609, -0.16517992, -0.16563362, -0.165202  , -0.16567719,\n",
       "        -0.16512302, -0.16562665, -0.16525292, -0.16573067, -0.16551937,\n",
       "        -0.16567898, -0.16522244, -0.16571066, -0.16539307, -0.16567271,\n",
       "        -0.16550918, -0.16569159, -0.16550479, -0.16567845, -0.16542979,\n",
       "        -0.16564547, -0.16554475, -0.16567033, -0.16551476, -0.16567509,\n",
       "        -0.16546539, -0.1656893 , -0.16551595]])"
      ]
     },
     "execution_count": 126,
     "metadata": {},
     "output_type": "execute_result"
    }
   ],
   "source": [
    "X_trans"
   ]
  },
  {
   "cell_type": "code",
   "execution_count": 128,
   "id": "e8483dae",
   "metadata": {},
   "outputs": [
    {
     "data": {
      "text/plain": [
       "array([[1.48508982e-14, 6.21577063e-13, 7.10339426e-11, 1.47189524e-10,\n",
       "        1.12422075e-14, 5.35016963e-13, 1.17725122e-12, 1.80348371e-13,\n",
       "        2.55773080e-06, 9.99997497e-01]], dtype=float32)"
      ]
     },
     "execution_count": 128,
     "metadata": {},
     "output_type": "execute_result"
    }
   ],
   "source": [
    "X_pred = model.predict(X_trans)\n",
    "X_pred"
   ]
  },
  {
   "cell_type": "code",
   "execution_count": 129,
   "id": "79f981c9",
   "metadata": {},
   "outputs": [
    {
     "data": {
      "text/plain": [
       "array([9], dtype=int64)"
      ]
     },
     "execution_count": 129,
     "metadata": {},
     "output_type": "execute_result"
    }
   ],
   "source": [
    "model.predict_classes(X_trans)"
   ]
  },
  {
   "cell_type": "code",
   "execution_count": 130,
   "id": "b963ebdf",
   "metadata": {},
   "outputs": [
    {
     "data": {
      "text/plain": [
       "0.9999975"
      ]
     },
     "execution_count": 130,
     "metadata": {},
     "output_type": "execute_result"
    }
   ],
   "source": [
    "np.amax(X_pred)"
   ]
  },
  {
   "cell_type": "code",
   "execution_count": null,
   "id": "07ac9e5e",
   "metadata": {},
   "outputs": [],
   "source": []
  },
  {
   "cell_type": "code",
   "execution_count": null,
   "id": "8cde8d20",
   "metadata": {},
   "outputs": [],
   "source": []
  },
  {
   "cell_type": "code",
   "execution_count": 134,
   "id": "13ddf547",
   "metadata": {
    "collapsed": true
   },
   "outputs": [
    {
     "data": {
      "text/plain": [
       "array([66149, 0.3430653512477875, 0.0861465260386467, 0.1126992478966713,\n",
       "       0.0014496854273602, 1816.6937765281948, 90525.69086581325,\n",
       "       2010.0515008132973, 65671.87567304078, 3869.6822415865386,\n",
       "       672244.7602729121, 0.0871732271634615, 0.0010296204950682,\n",
       "       -9.894942195387556e-05, 0.004950363188982, -0.0001033452499541,\n",
       "       0.0048535047098994, 123.046875, -125.59070587158205,\n",
       "       2038.34423828125, 122.42122650146484, 216.7741851806641,\n",
       "       -20.718019485473636, 231.97976684570312, 50.12838745117188,\n",
       "       142.70040893554688, -11.33330249786377, 139.2431182861328,\n",
       "       21.385400772094727, 77.81794738769531, -15.960796356201172,\n",
       "       97.36402893066406, 19.454103469848636, 57.94809341430664,\n",
       "       -12.465917587280272, 68.27152252197266, 17.898168563842773,\n",
       "       56.22217559814453, -11.73255443572998, 54.37390899658203,\n",
       "       8.145000457763672, 40.66287612915039, -7.717750549316406,\n",
       "       30.808521270751957, 8.397150039672852, 48.78422546386719,\n",
       "       -8.300493240356445, 68.58482360839844, 4.074709415435791,\n",
       "       64.74827575683594, -6.055294036865234, 40.67765426635742,\n",
       "       0.1590154767036438, 51.26409149169922, -2.8376989364624023,\n",
       "       97.03083038330078, 5.784063339233398, 59.94308090209961],\n",
       "      dtype=object)"
      ]
     },
     "execution_count": 134,
     "metadata": {},
     "output_type": "execute_result"
    }
   ],
   "source": [
    "dfr1 = np.array(df.iloc[1, :-1])\n",
    "dfr1"
   ]
  },
  {
   "cell_type": "code",
   "execution_count": 135,
   "id": "24921fe0",
   "metadata": {},
   "outputs": [],
   "source": [
    "dfr1_trans = fit.fit_transform(dfr1[:, np.newaxis])"
   ]
  },
  {
   "cell_type": "code",
   "execution_count": 139,
   "id": "43b9968d",
   "metadata": {},
   "outputs": [],
   "source": [
    "dfr1_trans = dfr1_trans.T"
   ]
  },
  {
   "cell_type": "code",
   "execution_count": 140,
   "id": "62209a53",
   "metadata": {},
   "outputs": [
    {
     "data": {
      "text/plain": [
       "array([[ 0.5706672 , -0.17644951, -0.17645241, -0.17645211, -0.17645337,\n",
       "        -0.15593472,  0.84598999, -0.15375084,  0.56527831, -0.13274722,\n",
       "         7.41622215, -0.1764524 , -0.17645337, -0.17645338, -0.17645333,\n",
       "        -0.17645338, -0.17645333, -0.17506363, -0.17787187, -0.15343128,\n",
       "        -0.1750707 , -0.17400502, -0.17668738, -0.17383328, -0.17588721,\n",
       "        -0.17484165, -0.17658139, -0.1748807 , -0.17621185, -0.17557447,\n",
       "        -0.17663365, -0.1753537 , -0.17623366, -0.17579889, -0.17659418,\n",
       "        -0.17568229, -0.17625123, -0.17581838, -0.1765859 , -0.17583926,\n",
       "        -0.17636139, -0.17599412, -0.17654055, -0.17610542, -0.17635854,\n",
       "        -0.17590239, -0.17654713, -0.17567875, -0.17640736, -0.17572208,\n",
       "        -0.17652177, -0.17599395, -0.17645159, -0.17587438, -0.17648543,\n",
       "        -0.17535747, -0.17638805, -0.17577636]])"
      ]
     },
     "execution_count": 140,
     "metadata": {},
     "output_type": "execute_result"
    }
   ],
   "source": [
    "dfr1_trans"
   ]
  },
  {
   "cell_type": "code",
   "execution_count": 142,
   "id": "23da32ae",
   "metadata": {},
   "outputs": [
    {
     "data": {
      "text/plain": [
       "array([[2.2795322e-16, 8.7226250e-15, 3.9767300e-13, 4.0129223e-13,\n",
       "        3.7173609e-17, 4.3043953e-15, 1.7679639e-14, 9.5602481e-16,\n",
       "        1.9303147e-10, 1.0000000e+00]], dtype=float32)"
      ]
     },
     "execution_count": 142,
     "metadata": {},
     "output_type": "execute_result"
    }
   ],
   "source": [
    "dfr_pred = model.predict(dfr1_trans)\n",
    "dfr_pred"
   ]
  },
  {
   "cell_type": "code",
   "execution_count": 144,
   "id": "5455e163",
   "metadata": {},
   "outputs": [
    {
     "data": {
      "text/plain": [
       "array([9], dtype=int64)"
      ]
     },
     "execution_count": 144,
     "metadata": {},
     "output_type": "execute_result"
    }
   ],
   "source": [
    "model.predict_classes(dfr1_trans)"
   ]
  },
  {
   "cell_type": "code",
   "execution_count": null,
   "id": "5aa3ca4a",
   "metadata": {},
   "outputs": [],
   "source": []
  }
 ],
 "metadata": {
  "kernelspec": {
   "display_name": "Python 3",
   "language": "python",
   "name": "python3"
  },
  "language_info": {
   "codemirror_mode": {
    "name": "ipython",
    "version": 3
   },
   "file_extension": ".py",
   "mimetype": "text/x-python",
   "name": "python",
   "nbconvert_exporter": "python",
   "pygments_lexer": "ipython3",
   "version": "3.8.8"
  }
 },
 "nbformat": 4,
 "nbformat_minor": 5
}
